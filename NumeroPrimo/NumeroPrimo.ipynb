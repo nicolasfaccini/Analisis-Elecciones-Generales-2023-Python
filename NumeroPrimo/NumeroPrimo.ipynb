{
  "cells": [
    {
      "cell_type": "code",
      "execution_count": 1,
      "metadata": {
        "id": "TphDKOAhl0xZ"
      },
      "outputs": [],
      "source": [
        "import time #para medir rendimiento\n",
        "import timeit #esto nos sirve para medir el rendimiento"
      ]
    },
    {
      "cell_type": "markdown",
      "metadata": {
        "id": "_-Qn6L2EnQPZ"
      },
      "source": [
        "\n",
        "Consigna"
      ]
    },
    {
      "cell_type": "markdown",
      "metadata": {
        "id": "beo9pttritAt"
      },
      "source": [
        "Encontrar el número primo número mil. Elaborar una función que, indicando un número por parámetro, devuelva el número primo deseado. Se medirá el rendimiento de la función.\n",
        "\n"
      ]
    },
    {
      "cell_type": "markdown",
      "metadata": {
        "id": "WI2vaFHeivWq"
      },
      "source": [
        "\n",
        "Desarrollo\n"
      ]
    },
    {
      "cell_type": "markdown",
      "metadata": {
        "id": "cHtcsbkPiwxl"
      },
      "source": [
        "Para hacer este trabajo, utilizamos ChatGPT para proveer info/links/videos/instrucciones/enseñanza. [Link al chat completo](https://chat.openai.com/share/4ad2f678-e659-429e-8573-aa29dd32d2a5)\n",
        "\n",
        "Primero, tenemos que averiguar lo que es un numero primo.\n",
        "\n",
        "Los [números primos](https://micalculadoracientifica.com/numeros-primos/) son un conjunto numérico que describe los valores numéricos que solo tienen dos divisores: el número 1 y ellos mismos. Por ejemplo, el 2 es un número primo, ya que solo tiene divisores el 1 y el 2. Sin embargo, el 4 no es un número primo, porque además del 1 y del 4, también tiene como divisor al 2. Entonces, el cuatro es un número compuesto."
      ]
    },
    {
      "cell_type": "markdown",
      "metadata": {
        "id": "RkrwlCtjjpf5"
      },
      "source": [
        "Para calcular numeros primos, se pueden usar distintos métodos. Los mejores que pudimos encontrar son:\n",
        "\n",
        "[Prueba de división simple:](https://matematicasies.com/Averiguar-si-un-numero-es-primo) Para saber si un número es primo, se puede dividir sucesivamente por los primeros números primos (2, 3, 5, 7, 11, ...) hasta que el cociente sea menor que el divisor. Si durante este proceso se encuentra alguna división exacta, el número no es primo​.\n",
        "\n",
        "[Criba de Eratóstenes:](https://micalculadoracientifica.com/criba-de-eratostenes/) Este es un algoritmo antiguo y eficiente para encontrar todos los números primos menores que un número dado. Se basa en eliminar los múltiplos de cada número primo de una lista de números consecutivos, dejando solo los números primos. Por ejemplo, para encontrar todos los números primos menores a 20, comenzamos tachando los múltiplos de 2, luego los de 3, y así sucesivamente hasta que solo queden los números primos​."
      ]
    },
    {
      "cell_type": "markdown",
      "metadata": {
        "id": "mA88ZZ19fOLB"
      },
      "source": [
        "Ahora, en cuanto a la logica para el codigo. Criba de erastostenes es un algoritmo que nos excede un poco, aunque ya vimos su desarollo en [videos de youtube](https://www.youtube.com/watch?v=mTvNZesND-o) y en chatgpt (Apartado abajo)\n",
        "\n",
        "Por lo tanto, vamos a tomar la prueba de division simple, pero sin raiz porque es algo que tambien nos excede.\n",
        "\n",
        "Comenzamos a definir la funcion, por lo que abrimos un def.\n",
        "\n",
        "*   Los numeros primos son mayores a 1, por lo que if num < 2: return False.\n",
        "    \n",
        "    Esta línea devuelve False si num es menor que 2, lo cual significa que no es primo.\n",
        "\n",
        "*   Los numeros primos solo tienen dos divisores posibles (con resto 0), el 1 y ellos mismos. Entonces, por ningun numero que lo dividamos nos tiene que dar un resto que sea 0. Entonces, el resto tiene que ser == (distinto) a 0. Tenemos que comprobar que el numero solo se pueda dividir por si mismo. Para eso, hacemos un for i in range(2,num). num en este caso iria solo hasta 6 porque python lo lee menos 1, pero no nos interesa el numero en si mismo porque obviamente es divisible por si mismo.\n",
        "\n",
        "\n"
      ]
    },
    {
      "cell_type": "code",
      "execution_count": 2,
      "metadata": {
        "colab": {
          "base_uri": "https://localhost:8080/"
        },
        "id": "Cyd_3tSdl-qw",
        "outputId": "37a84020-3237-44c7-f7e6-a4a447623da5"
      },
      "outputs": [
        {
          "name": "stdout",
          "output_type": "stream",
          "text": [
            "True\n"
          ]
        }
      ],
      "source": [
        "def primo(num):\n",
        "    if num <= 1:\n",
        "        return False #numero menor o igual a 1, devolver falso porque ya no es primo\n",
        "    for i in range(2, num):\n",
        "        if num % i == 0: #verificar si el número es divisible por i sin dejar ningún resto.\n",
        "            return False\n",
        "    return True\n",
        "\n",
        "print(primo(7))"
      ]
    },
    {
      "cell_type": "markdown",
      "metadata": {
        "id": "R9SHugWjnItF"
      },
      "source": [
        "Entonces, hasta aca lo que tenemos es un codigo que nos dice, revisando manualmente el rango, si el numero es o no es primo. En este caso, divide el 7 por 2,3,4,5,6. Hasta aca lo pudimos hacer 100% solos, sin ChatGPT digamos. Que el codigo nos diga si un numero es primo o no.\n",
        "\n",
        "\n",
        "Ahora, lo que necesitamos es que nosotros digamos una posición de numero primo y nos diga cual es ese numero. Para ello definimos una nueva función llamada \"encontrar_primo_n\".\n",
        "\n",
        "Esta función toma como parámetro la posición a buscar. En este caso, si se requiere buscar el número primo en la posición '1000', se colocará 1000 entre ().\n",
        "'encontrar_primo_n' inicia definiendo un contador desde 0 y el numero ('num') 1 para iniciar a iterar la función. Luego, se ejecuta un bucle hasta el momento en el que el contador alcance el número definido como posición para la función. Incrementa de a un número entero y evalúa a través de la función 'primo' si el número definido para 'num' es primo o no. En caso de ser primo, el contador suma 1 punto. Una vez que el contador alcance el mismo valor que la posición asignada, la función retornará 'num' como valor, indicando que ese es el número primo en la posición solicitada.\n",
        "\n",
        "Luego de definir ambas funciones se creo una variable que permite introducir la posición a buscar deseada. Una vez ingresada la misma, la variable 'numero_primo' ejecuta la función encontrar_primo_n para el valor asignado a 'posicion'.\n",
        "\n",
        "Para acceder al tiempo requerido para el cálculo, se importó la librería 'time' y luego se definieron las variables start_time (para calcular el inicio de la ejecuión de la función) y end_time (para calcular el momento de finalización de la función). start_time se ejecutará previo a la ejecución de la fución 'numero_primo' y end_time, al terminar. Una vez determinado el valor de inicio y de final de tiempo transcurrido, 'final_time' resta start_time a end_time.\n"
      ]
    },
    {
      "cell_type": "code",
      "execution_count": 9,
      "metadata": {
        "colab": {
          "base_uri": "https://localhost:8080/"
        },
        "id": "AnJSBIKghUaK",
        "outputId": "d248472f-b682-436b-e00e-0ad520ee81d2"
      },
      "outputs": [
        {
          "name": "stdout",
          "output_type": "stream",
          "text": [
            "El número primo en la posición 1000 es: 7919\n",
            "Tiempo transcurrido para calcular: 0.21043610572814941 segundos\n"
          ]
        }
      ],
      "source": [
        "def primo(num):\n",
        "    if num <= 1:\n",
        "        return False #numero menor o igual a 1, devolver falso porque ya no es primo\n",
        "    for i in range(2, num):\n",
        "        if num % i == 0: #verificar si el número es divisible por i sin dejar ningún resto.\n",
        "            return False\n",
        "    return True\n",
        "\n",
        "def encontrar_primo_n(posicion):\n",
        "    contador = 0\n",
        "    num = 1\n",
        "    while  contador != posicion:\n",
        "        num += 1\n",
        "        if primo(num):\n",
        "            contador += 1\n",
        "            if contador == posicion:\n",
        "                return num\n",
        "\n",
        "\n",
        "# posicion = 1000\n",
        "# esto si queremos input\n",
        "posicion = posicion_primo = int(input(\"Ingrese la posición del número primo que desea saber: \"))\n",
        "\n",
        "start_time = time.time()\n",
        "numero_primo = encontrar_primo_n(posicion)\n",
        "end_time = time.time()\n",
        "final_time = end_time - start_time\n",
        "\n",
        "print(f\"El número primo en la posición {posicion} es: {numero_primo}\")\n",
        "print(f\"Tiempo transcurrido para calcular: {final_time} segundos\")"
      ]
    },
    {
      "cell_type": "markdown",
      "metadata": {
        "id": "iSXciiwmhXjA"
      },
      "source": [
        "# Con CHATGPT usando la raiz:\n"
      ]
    },
    {
      "cell_type": "code",
      "execution_count": 8,
      "metadata": {
        "colab": {
          "base_uri": "https://localhost:8080/"
        },
        "id": "NYAaoJfxk9SM",
        "outputId": "7ae354c6-cc09-46c9-ca49-12b5feecd4db"
      },
      "outputs": [
        {
          "name": "stdout",
          "output_type": "stream",
          "text": [
            "El número primo en la posición 10000 es: 104729\n",
            "Tiempo transcurrido para calcular: 0.19148540496826172 segundos\n"
          ]
        }
      ],
      "source": [
        "import time\n",
        "\n",
        "def es_primo(num):\n",
        "    if num < 2:\n",
        "        return False\n",
        "    for i in range(2, int(num**0.5) + 1):\n",
        "        if num % i == 0:\n",
        "            return False\n",
        "    return True\n",
        "\n",
        "def encontrar_primo_n(posicion):\n",
        "    contador, num = 0, 1\n",
        "    while contador < posicion:\n",
        "        num += 1\n",
        "        if es_primo(num):\n",
        "            contador += 1\n",
        "    return num\n",
        "\n",
        "\n",
        "posicion = 1000\n",
        "\n",
        "start_time = time.time()\n",
        "numero_primo = encontrar_primo_n(posicion)\n",
        "end_time = time.time()\n",
        "\n",
        "print(f\"El número primo en la posición {posicion} es: {numero_primo}\")\n",
        "elapsed_time = end_time - start_time\n",
        "print(f\"Tiempo transcurrido para calcular: {elapsed_time} segundos\")"
      ]
    },
    {
      "cell_type": "markdown",
      "metadata": {
        "id": "PLII4kTtiyMD"
      },
      "source": [
        "#ChatGPT-4 + Criba de Erastostenes\n",
        "\n"
      ]
    },
    {
      "cell_type": "markdown",
      "metadata": {
        "id": "lr_AiP-Mpq-j"
      },
      "source": [
        "Esto es el mejor resultado posible, que nos lo da ChatGPT-4 y es usando \"el algoritmo del criba de Eratóstenes\""
      ]
    },
    {
      "cell_type": "code",
      "execution_count": null,
      "metadata": {
        "colab": {
          "base_uri": "https://localhost:8080/"
        },
        "id": "ZXHoESXPosHM",
        "outputId": "c3cd6775-f50c-4b79-d4ec-0f1eecc4747d"
      },
      "outputs": [
        {
          "name": "stdout",
          "output_type": "stream",
          "text": [
            "El número primo en la posición 10000 es: 104729\n"
          ]
        }
      ],
      "source": [
        "def es_primo(n):\n",
        "    \"\"\"Verificar si un número es primo.\"\"\"\n",
        "    if n <= 1:\n",
        "        return False\n",
        "    if n <= 3:\n",
        "        return True\n",
        "    if n % 2 == 0 or n % 3 == 0:\n",
        "        return False\n",
        "    i = 5\n",
        "    while i * i <= n:\n",
        "        if n % i == 0 or n % (i + 2) == 0:\n",
        "            return False\n",
        "        i += 6\n",
        "    return True\n",
        "\n",
        "def encontrar_primo_n(n):\n",
        "    \"\"\"Encontrar el n-ésimo número primo.\"\"\"\n",
        "    contador_de_primos = 0\n",
        "    numero = 1\n",
        "    while contador_de_primos < n:\n",
        "        numero += 1\n",
        "        if es_primo(numero):\n",
        "            contador_de_primos += 1\n",
        "    return numero\n",
        "\n",
        "# Pedir al usuario que ingrese la posición del número primo que desea saber\n",
        "#posicion_primo = int(input(\"Ingrese la posición del número primo que desea saber: \"))\n",
        "posicion = 10000\n",
        "# Encontrar el número primo en la posición solicitada\n",
        "primo_en_posicion = encontrar_primo_n(posicion_primo)\n",
        "print(f\"El número primo en la posición {posicion_primo} es: {primo_en_posicion}\")"
      ]
    },
    {
      "cell_type": "code",
      "execution_count": null,
      "metadata": {
        "colab": {
          "base_uri": "https://localhost:8080/"
        },
        "id": "Djb_MErRozEH",
        "outputId": "d754d648-4eaa-4f54-cabb-ed24164e426d"
      },
      "outputs": [
        {
          "name": "stdout",
          "output_type": "stream",
          "text": [
            "Tiempo de ejecución para encontrar el primo número 1000: 0.007356125000114844 segundos\n"
          ]
        }
      ],
      "source": [
        "# Medir el rendimiento de la función\n",
        "tiempo = timeit.timeit('encontrar_primo_n(1000)', globals=globals(), number=1)\n",
        "print(f\"Tiempo de ejecución para encontrar el primo número 1000: {tiempo} segundos\")"
      ]
    }
  ],
  "metadata": {
    "colab": {
      "provenance": []
    },
    "kernelspec": {
      "display_name": "Python 3",
      "name": "python3"
    },
    "language_info": {
      "codemirror_mode": {
        "name": "ipython",
        "version": 3
      },
      "file_extension": ".py",
      "mimetype": "text/x-python",
      "name": "python",
      "nbconvert_exporter": "python",
      "pygments_lexer": "ipython3",
      "version": "3.11.6"
    }
  },
  "nbformat": 4,
  "nbformat_minor": 0
}
